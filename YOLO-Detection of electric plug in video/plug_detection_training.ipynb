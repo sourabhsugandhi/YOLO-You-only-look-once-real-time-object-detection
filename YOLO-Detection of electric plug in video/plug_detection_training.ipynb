{
  "nbformat": 4,
  "nbformat_minor": 0,
  "metadata": {
    "colab": {
      "name": "Plug_Detection.ipynb",
      "provenance": [],
      "collapsed_sections": []
    },
    "kernelspec": {
      "name": "python3",
      "display_name": "Python 3"
    },
    "accelerator": "GPU"
  },
  "cells": [
    {
      "cell_type": "markdown",
      "metadata": {
        "id": "WEI4OYdThYCm"
      },
      "source": [
        "# Train Yolo Object detector for detection of electriv plug"
      ]
    },
    {
      "cell_type": "code",
      "metadata": {
        "id": "S5g4KoQNhjCn"
      },
      "source": [
        "#Connect google drive\r\n",
        "\r\n",
        "from google.colab import drive\r\n",
        "drive.mount('/content/gdrive')\r\n",
        "!ln -s /content/gdrive/My\\ Drive/ /mydrive\r\n",
        "!ls /mydrive"
      ],
      "execution_count": null,
      "outputs": []
    },
    {
      "cell_type": "code",
      "metadata": {
        "id": "alvZkEQuhnHj"
      },
      "source": [
        "# Clone the Darknet\r\n",
        "\r\n",
        "!git clone https://github.com/AlexeyAB/darknet"
      ],
      "execution_count": null,
      "outputs": []
    },
    {
      "cell_type": "code",
      "metadata": {
        "id": "s-y4FYqZhq4-"
      },
      "source": [
        "# Compile Darknet using Nvidia GPU\r\n",
        "%cd darknet\r\n",
        "!sed -i 's/OPENCV=0/OPENCV=1/' Makefile ##sed--string editor\r\n",
        "!sed -i 's/GPU=0/GPU=1/' Makefile\r\n",
        "!sed -i 's/CUDNN=0/CUDNN=1/' Makefile\r\n",
        "!make"
      ],
      "execution_count": null,
      "outputs": []
    },
    {
      "cell_type": "code",
      "metadata": {
        "id": "iUE_Q4A7hqyy"
      },
      "source": [
        "# Configure Darknet network for training YOLO V3\r\n",
        "\r\n",
        "!cp cfg/yolov3.cfg cfg/yolov3_training.cfg"
      ],
      "execution_count": null,
      "outputs": []
    },
    {
      "cell_type": "code",
      "metadata": {
        "id": "V9HsksDUh542"
      },
      "source": [
        "#Change lines in yolov3.cfg file\r\n",
        "!sed -i 's/batch=1/batch=60/' cfg/yolov3_training.cfg\r\n",
        "!sed -i 's/subdivisions=1/subdivisions=16/' cfg/yolov3_training.cfg\r\n",
        "!sed -i 's/max_batches = 500200/max_batches = 2000/' cfg/yolov3_training.cfg\r\n",
        "!sed -i '610 s@classes=80@classes=1@' cfg/yolov3_training.cfg\r\n",
        "!sed -i '696 s@classes=80@classes=1@' cfg/yolov3_training.cfg\r\n",
        "!sed -i '783 s@classes=80@classes=1@' cfg/yolov3_training.cfg\r\n",
        "!sed -i '603 s@filters=255@filters=18@' cfg/yolov3_training.cfg\r\n",
        "!sed -i '689 s@filters=255@filters=18@' cfg/yolov3_training.cfg\r\n",
        "!sed -i '776 s@filters=255@filters=18@' cfg/yolov3_training.cfg"
      ],
      "execution_count": null,
      "outputs": []
    },
    {
      "cell_type": "code",
      "metadata": {
        "id": "I6_b1KNqiSuS"
      },
      "source": [
        "#Change Object name that you wanted to detect\r\n",
        "!echo \"Plug\" > data/obj.names\r\n",
        "!echo -e 'classes= 1\\ntrain  = data/train.txt\\nvalid  = data/test.txt\\nnames = data/obj.names\\nbackup = /mydrive/yolov3_new' > data/obj.data\r\n",
        "!mkdir data/obj"
      ],
      "execution_count": null,
      "outputs": []
    },
    {
      "cell_type": "code",
      "metadata": {
        "id": "iGkoxSZViVgF"
      },
      "source": [
        "# Save yolov3_training.cfg and obj.names files in Google drive\r\n",
        "!cp cfg/yolov3_training.cfg /mydrive/yolov3_new/yolov3_testing.cfg\r\n",
        "!cp data/obj.names /mydrive/yolov3_new/classes.txt"
      ],
      "execution_count": null,
      "outputs": []
    },
    {
      "cell_type": "code",
      "metadata": {
        "id": "hxz1TJAjianW"
      },
      "source": [
        "# Create a folder and unzip image dataset\r\n",
        "\r\n",
        "!mkdir data/obj\r\n",
        "!unzip /mydrive/yolov3_new/images.zip -d data/obj"
      ],
      "execution_count": 1,
      "outputs": []
    },
    {
      "cell_type": "code",
      "metadata": {
        "id": "idRDW1dWifmk"
      },
      "source": [
        "# Create train.txt file inside the data folder\r\n",
        "import glob\r\n",
        "images_list = glob.glob(\"data/obj/*.jpg\")\r\n",
        "with open(\"data/train.txt\", \"w\") as f:\r\n",
        "    f.write(\"\\n\".join(images_list))"
      ],
      "execution_count": null,
      "outputs": []
    },
    {
      "cell_type": "code",
      "metadata": {
        "id": "0_KYbO0xijy9"
      },
      "source": [
        "# Download pre-trained weights for the convolutional layers file\r\n",
        "\r\n",
        "!wget https://pjreddie.com/media/files/darknet53.conv.74"
      ],
      "execution_count": null,
      "outputs": []
    },
    {
      "cell_type": "code",
      "metadata": {
        "id": "Clma4eJ8iq11"
      },
      "source": [
        "# Start the training\r\n",
        "!./darknet detector train data/obj.data cfg/yolov3_training.cfg darknet53.conv.74 -dont_show"
      ],
      "execution_count": null,
      "outputs": []
    }
  ]
}